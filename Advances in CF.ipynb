{
 "cells": [
  {
   "cell_type": "code",
   "execution_count": 104,
   "metadata": {},
   "outputs": [],
   "source": [
    "import numpy as np\n",
    "import pandas as pd\n",
    "from sklearn.model_selection import train_test_split"
   ]
  },
  {
   "cell_type": "markdown",
   "metadata": {},
   "source": [
    "# collaborative filtering (CF)"
   ]
  },
  {
   "cell_type": "markdown",
   "metadata": {},
   "source": [
    "> cf 基于 一些模式（评分， 购买行为）， 不需要用户和商品 外生的信息， 实现商品推荐的目的。\n",
    "\n",
    "推荐系统依赖输入的类型。\n",
    "* explicit feedback 显式反馈 --> 电影评分， 点赞 ，订阅\n",
    "* implicit feedback 隐式反馈 --> 购买历史，浏览历史，搜索历史，甚至鼠标点击。\n",
    "\n",
    "#### CF系统的建立，需要两个实体--> items and users"
   ]
  },
  {
   "cell_type": "code",
   "execution_count": 105,
   "metadata": {},
   "outputs": [
    {
     "data": {
      "text/html": [
       "<div>\n",
       "<style scoped>\n",
       "    .dataframe tbody tr th:only-of-type {\n",
       "        vertical-align: middle;\n",
       "    }\n",
       "\n",
       "    .dataframe tbody tr th {\n",
       "        vertical-align: top;\n",
       "    }\n",
       "\n",
       "    .dataframe thead th {\n",
       "        text-align: right;\n",
       "    }\n",
       "</style>\n",
       "<table border=\"1\" class=\"dataframe\">\n",
       "  <thead>\n",
       "    <tr style=\"text-align: right;\">\n",
       "      <th></th>\n",
       "      <th>user_id</th>\n",
       "      <th>item_id</th>\n",
       "      <th>rating</th>\n",
       "      <th>timestamp</th>\n",
       "    </tr>\n",
       "  </thead>\n",
       "  <tbody>\n",
       "    <tr>\n",
       "      <th>0</th>\n",
       "      <td>196</td>\n",
       "      <td>242</td>\n",
       "      <td>3</td>\n",
       "      <td>881250949</td>\n",
       "    </tr>\n",
       "    <tr>\n",
       "      <th>1</th>\n",
       "      <td>186</td>\n",
       "      <td>302</td>\n",
       "      <td>3</td>\n",
       "      <td>891717742</td>\n",
       "    </tr>\n",
       "    <tr>\n",
       "      <th>2</th>\n",
       "      <td>22</td>\n",
       "      <td>377</td>\n",
       "      <td>1</td>\n",
       "      <td>878887116</td>\n",
       "    </tr>\n",
       "    <tr>\n",
       "      <th>3</th>\n",
       "      <td>244</td>\n",
       "      <td>51</td>\n",
       "      <td>2</td>\n",
       "      <td>880606923</td>\n",
       "    </tr>\n",
       "    <tr>\n",
       "      <th>4</th>\n",
       "      <td>166</td>\n",
       "      <td>346</td>\n",
       "      <td>1</td>\n",
       "      <td>886397596</td>\n",
       "    </tr>\n",
       "    <tr>\n",
       "      <th>5</th>\n",
       "      <td>298</td>\n",
       "      <td>474</td>\n",
       "      <td>4</td>\n",
       "      <td>884182806</td>\n",
       "    </tr>\n",
       "    <tr>\n",
       "      <th>6</th>\n",
       "      <td>115</td>\n",
       "      <td>265</td>\n",
       "      <td>2</td>\n",
       "      <td>881171488</td>\n",
       "    </tr>\n",
       "    <tr>\n",
       "      <th>7</th>\n",
       "      <td>253</td>\n",
       "      <td>465</td>\n",
       "      <td>5</td>\n",
       "      <td>891628467</td>\n",
       "    </tr>\n",
       "    <tr>\n",
       "      <th>8</th>\n",
       "      <td>305</td>\n",
       "      <td>451</td>\n",
       "      <td>3</td>\n",
       "      <td>886324817</td>\n",
       "    </tr>\n",
       "    <tr>\n",
       "      <th>9</th>\n",
       "      <td>6</td>\n",
       "      <td>86</td>\n",
       "      <td>3</td>\n",
       "      <td>883603013</td>\n",
       "    </tr>\n",
       "  </tbody>\n",
       "</table>\n",
       "</div>"
      ],
      "text/plain": [
       "   user_id  item_id  rating  timestamp\n",
       "0      196      242       3  881250949\n",
       "1      186      302       3  891717742\n",
       "2       22      377       1  878887116\n",
       "3      244       51       2  880606923\n",
       "4      166      346       1  886397596\n",
       "5      298      474       4  884182806\n",
       "6      115      265       2  881171488\n",
       "7      253      465       5  891628467\n",
       "8      305      451       3  886324817\n",
       "9        6       86       3  883603013"
      ]
     },
     "execution_count": 105,
     "metadata": {},
     "output_type": "execute_result"
    }
   ],
   "source": [
    "# 读取数据 100000 行 user -item -rating 的数据\n",
    "header = ['user_id','item_id','rating','timestamp']\n",
    "df = pd.read_csv(\"ml-100k/u.data\",sep = '\\t',names = header)\n",
    "df.iloc[:10]"
   ]
  },
  {
   "cell_type": "markdown",
   "metadata": {},
   "source": [
    "#### CF系统主要分为二种实现技术\n",
    "* Neighborhood approach (比较 users 和 items 之间的关系)\n",
    "    * user-based CF\n",
    "    * item-based CF\n",
    "* latent factor models (user,item 转化到对应的隐因子空间)\n",
    "    * matrix factorization 矩阵分解 (试图从用户的评分中**自动**的推测出user 和item的内在属性)"
   ]
  },
  {
   "cell_type": "markdown",
   "metadata": {},
   "source": [
    "# Baseline predictors 基准线 \n",
    ">协同过滤模型（users-items matrix） 试图从 用户的评分中获取 user 和 item 之间的交互信息（interactions。但是有些信息会独立于交互而存在: user bias/ item bias 用户/物品的偏差\n",
    "* user bias --> 比如 某些用户喜欢打高分\n",
    "* item bias --> 比如 有些物品评分高于其他物品\n",
    "\n",
    "所以 既要考虑到 用户于产品的交互信息(user-item interactions)， 又要封装用户和产品的偏差影响。\n",
    "#### baseline predictors:\n",
    "$$\\quad b_{ui} = \\mu + b_u + b_i $$\n"
   ]
  },
  {
   "cell_type": "code",
   "execution_count": 106,
   "metadata": {},
   "outputs": [],
   "source": [
    "# Mu: overall average rating \n",
    "Mu = np.average(df['rating'])\n",
    "# observed deviations of user\n",
    "bias_u= 0\n",
    "# observed deviations of item\n",
    "bias_i =0"
   ]
  },
  {
   "cell_type": "markdown",
   "metadata": {},
   "source": [
    "比如： joe评价泰坦尼克号这部电影，网站电影均分$\\mu$为3.7，泰坦尼克号高于平均，$b_i$ 为0.5，joe 是一个苛刻的用户，打分低于平均，$b_u$ 为-0.3. 所以 最终的$b_{ui}$ 为3.7 + 0.5 - 0.3 = 3.9"
   ]
  },
  {
   "cell_type": "markdown",
   "metadata": {},
   "source": [
    "#### 估计 $b_i$ 和 $b_u$   使用最小二乘法\n",
    "\\begin{equation}\n",
    "\\min_{b_i,b_u}\\sum_{u,i}(r_{ui} - \\mu - b_i -b_u)^2  + \\lambda(\\sum_u b_u^2 + \\sum_i b_i^2)\n",
    "\\end{equation}\n",
    "\n",
    "给定 一定的评分数据$r_{ui}$， 使用**SGD随机梯度下降法**来估计参数 \n",
    "\n",
    "\n"
   ]
  },
  {
   "cell_type": "markdown",
   "metadata": {},
   "source": [
    "#### 另一种准确度相对低的方法\n",
    "对某个物品求该物品偏差\n",
    "\\begin{equation}\n",
    "b_i = \\frac{\\sum_{u \\in R(i)} (r_{ui} - \\mu)}{\\lambda_2 + |R(i)|}\n",
    "\\end{equation}"
   ]
  },
  {
   "cell_type": "code",
   "execution_count": 107,
   "metadata": {},
   "outputs": [
    {
     "name": "stdout",
     "output_type": "stream",
     "text": [
      "电影242的偏差为: 0.3803266197183098\n"
     ]
    }
   ],
   "source": [
    "# 计算 ID为242 的电影 偏差\n",
    "item_id=242\n",
    "def calculate_bias_i(item_id):\n",
    "    lambda2 = 25\n",
    "    r_ui= df[df['item_id'] == item_id]\n",
    "    b_i = np.sum([r - Mu for r in r_ui[\"rating\"]])/(lambda2 + len(r_ui))\n",
    "    return b_i\n",
    "print(\"电影242的偏差为: {}\".format(calculate_bias_i(242)))"
   ]
  },
  {
   "cell_type": "markdown",
   "metadata": {},
   "source": [
    "对某用户计算其打分偏好\n",
    "\\begin{equation}\n",
    "b_u = \\frac{\\sum_{i \\in R(u)} (r_{ui} - \\mu - b_i)}{\\lambda_3 + |R(u)|}\n",
    "\\end{equation}"
   ]
  },
  {
   "cell_type": "code",
   "execution_count": 108,
   "metadata": {},
   "outputs": [
    {
     "name": "stdout",
     "output_type": "stream",
     "text": [
      "用户22的打分偏差为: -0.07795944320059058\n"
     ]
    }
   ],
   "source": [
    "# 计算所有电影的偏差\n",
    "bias_i ={}\n",
    "item_set = set(df['item_id'])\n",
    "for item_id in item_set:\n",
    "    bias_i[item_id] = calculate_bias_i(item_id)\n",
    "# 计算 ID为22 的用户打分偏差\n",
    "user_id = 22\n",
    "def calculate_bias_u(user_id):\n",
    "    lambda3 = 10\n",
    "    r_ui= df[df['user_id'] == user_id]\n",
    "    b_u= np.sum([e[1]['rating'] - Mu - bias_i[e[1]['item_id']] for e in list(r_ui[['item_id','rating']].iterrows())])/(lambda3 + len(r_ui))\n",
    "    return b_u\n",
    "       \n",
    "print(\"用户22的打分偏差为: {}\".format(calculate_bias_u(user_id)))"
   ]
  },
  {
   "cell_type": "markdown",
   "metadata": {},
   "source": [
    "$\\lambda_2$ 和 $\\lambda_3$ 为正则化系数， 一般有交叉验证(corss validation)求得. 这里先用Netflix数据集的参数。"
   ]
  },
  {
   "cell_type": "markdown",
   "metadata": {},
   "source": [
    "# 评估方法 RMSE\n",
    "评估 预测值 $\\hat{r_{ui}}$ 的质量， 我们选用 root mean squred error \n",
    "\\begin{equation}\n",
    "\\sqrt{\\frac{\\sum_{u,i \\in Testset}(r_{ui} - \\hat{r_{ui}})^2}{|TestSet|}}\n",
    "\\end{equation}"
   ]
  },
  {
   "cell_type": "markdown",
   "metadata": {},
   "source": [
    "# Matrix factorization models\n",
    "## SVD\n",
    "* examples include pLSA , neural networks, Latent Dirichlet Allocation(LDA)\n",
    "* model : SVD-based model --> 对 user-item ratings 矩阵分解 / user,item 转化到对应的隐因子空间\n",
    "    * user $u$ --> vector $p_u$\n",
    "    * item $i$ --> vector $q_i$\n",
    "    * result -->  dot product  $q_i^T p_u$ 来获取 user-item interactions\n",
    "\n",
    "加上 baseline predictors 最终的 预测值为\n",
    "\\begin{equation}\n",
    "\\hat{r_{ui}} = \\mu + b_i + b_u + q_i^T p_u\n",
    "\\end{equation}\n",
    "\n",
    "#### loss function\n",
    "\\begin{equation}\n",
    "\\min_{b*,q*,p*}\\sum_{u,i}(r_{ui} - \\mu - b_i -b_u - q_i^T p_i)^2  + \\lambda_4( b_u^2 +  b_i^2 + \\lVert q_i\\rVert^2 + \\lVert p_u\\rVert^2)\n",
    "\\end{equation}\n",
    "\n",
    "$\\lambda_4$ 是正则化系数， 通常由cross validation决定.  Netflix data 数据为0.02.\n",
    "####  optimazation \n",
    "一种简单的办法是 随机梯度下降SGD。 对给定的数据， 不断朝参数梯度的反方向更新.\n",
    "\\begin{equation}\n",
    "e_{ui} = r_{ui} - \\mu - b_i - b_u -q_i^T p_u \\\\\n",
    "b_u \\gets b_u + \\gamma(e_{ui} - \\lambda_4 b_u) \\\\\n",
    "b_i \\gets b_i + \\gamma(e_{ui} - \\lambda_4 b_i) \\\\\n",
    "p_u \\gets p_u + \\gamma(e_{ui} q_i - \\lambda_4 p_u) \\\\\n",
    "q_i \\gets q_i + \\gamma(e_{ui} p_u - \\lambda_4 q_i)\n",
    "\\end{equation}\n",
    "\n",
    "$\\gamma$ 为学习率， Netflix data 的参数为 0.005."
   ]
  },
  {
   "cell_type": "markdown",
   "metadata": {},
   "source": [
    "## SVD++\n",
    "在SVD中只考虑了rating一项显式反馈。我们知道考虑隐式反馈会提高预测的准确度。在SVD模型中，一个可以抓住关键信息的隐式反馈就是对该电影$q_i$评过分的用户$p_u$自身评分的所有电影集合的信息$R(u)$, 这个信息反映了该用户自身的用户偏好，可以和$P_u$向量结合使用。在模型中，我们选用         $|R(u)|^{-\\frac{1}{2}}\\sum_{j \\in R(u)} y_i$ 来表示隐式反馈\n",
    "\n",
    "#### loss function\n",
    "\\begin{equation}\n",
    "\\hat{r_{ui}} = \\mu + b_i + b_u + q_i^T (p_u + |R(u)|^{-\\frac{1}{2}}\\sum_{j \\in R(u)} y_i) \\\\ \n",
    "\\min_{b*,q*,p*}\\sum_{u,i}(r_{ui} - \\hat{r_{ui}})^2  + \\lambda_5( b_u^2 +  b_i^2 + \\lVert q_i\\rVert^2 + \\lVert p_u\\rVert^2 + \\sum_{j \\in R(u)}y_i^2)\n",
    "\\end{equation}\n",
    "\n",
    "#### optimization 优化算法同样选用随机梯度下降法\n",
    "\\begin{equation}\n",
    "e_{ui} = r_{ui} - \\hat{r_{ui}} \\\\\n",
    "b_u \\gets b_u + \\gamma(e_{ui} - \\lambda_5 b_u) \\\\\n",
    "b_i \\gets b_i + \\gamma(e_{ui} - \\lambda_5 b_i) \\\\\n",
    "p_u \\gets p_u + \\gamma(e_{ui} q_i - \\lambda_6 p_u) \\\\\n",
    "q_i \\gets q_i + \\gamma(e_{ui} \\bullet \\big( p_u + |R(u)|^{-\\frac{1}{2}}\\sum_{j \\in R(u)} y_i \\big) - \\lambda_6 q_i) \\\\\n",
    "y_i \\gets y_i + \\gamma(e_{ui}||R(u)|^{-\\frac{1}{2}} q_i - \\lambda_6 y_i)\n",
    "\\end{equation}\n",
    "$\\gamma$ 为0.007，$\\lambda_5$ 为0.005，$\\lambda_6$ 为 0.015\n",
    "\n"
   ]
  },
  {
   "cell_type": "code",
   "execution_count": null,
   "metadata": {},
   "outputs": [],
   "source": []
  }
 ],
 "metadata": {
  "kernelspec": {
   "display_name": "Python 3",
   "language": "python",
   "name": "python3"
  },
  "language_info": {
   "codemirror_mode": {
    "name": "ipython",
    "version": 3
   },
   "file_extension": ".py",
   "mimetype": "text/x-python",
   "name": "python",
   "nbconvert_exporter": "python",
   "pygments_lexer": "ipython3",
   "version": "3.6.4"
  }
 },
 "nbformat": 4,
 "nbformat_minor": 2
}
